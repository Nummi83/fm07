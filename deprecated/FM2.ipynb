{
 "cells": [
  {
   "cell_type": "code",
   "execution_count": 9,
   "metadata": {},
   "outputs": [],
   "source": [
    "import ctypes\n",
    "from ctypes import *\n",
    "from ctypes.wintypes import *\n",
    "import psutil # install, not a default module\n",
    "import sys"
   ]
  },
  {
   "cell_type": "code",
   "execution_count": 10,
   "metadata": {},
   "outputs": [],
   "source": [
    "# input process name\n",
    "nameprocess = \"fm.exe\"\n",
    "PROCESS_VM_READ = 0x02900000"
   ]
  },
  {
   "cell_type": "code",
   "execution_count": 11,
   "metadata": {},
   "outputs": [],
   "source": [
    "# find pid\n",
    "def getpid():\n",
    "    for proc in psutil.process_iter():\n",
    "        if proc.name() == nameprocess:\n",
    "            return proc.pid"
   ]
  },
  {
   "cell_type": "code",
   "execution_count": 12,
   "metadata": {},
   "outputs": [],
   "source": [
    "PROCESS_ID = getpid()\n",
    "if PROCESS_ID == None:\n",
    "    print(\"Process was not found\")\n",
    "    sys.exit(1)"
   ]
  },
  {
   "cell_type": "code",
   "execution_count": 5,
   "metadata": {},
   "outputs": [],
   "source": [
    "# read from addresses\n",
    "STRLEN = 255"
   ]
  },
  {
   "cell_type": "code",
   "execution_count": 7,
   "metadata": {},
   "outputs": [],
   "source": [
    "process = windll.kernel32.OpenProcess(PROCESS_VM_READ, 0, PROCESS_ID)\n",
    "readProcMem = windll.kernel32.ReadProcessMemory\n",
    "buf = ctypes.create_string_buffer(STRLEN)\n",
    "\n",
    "for i in range(1,100): \n",
    "    if readProcMem(process, hex(i), buf, STRLEN, 0):\n",
    "        print(buf.raw)"
   ]
  },
  {
   "cell_type": "code",
   "execution_count": 13,
   "metadata": {},
   "outputs": [
    {
     "data": {
      "text/plain": [
       "3644"
      ]
     },
     "execution_count": 13,
     "metadata": {},
     "output_type": "execute_result"
    }
   ],
   "source": [
    "PROCESS_ID"
   ]
  },
  {
   "cell_type": "code",
   "execution_count": null,
   "metadata": {},
   "outputs": [],
   "source": []
  }
 ],
 "metadata": {
  "kernelspec": {
   "display_name": "Python 3",
   "language": "python",
   "name": "python3"
  },
  "language_info": {
   "codemirror_mode": {
    "name": "ipython",
    "version": 3
   },
   "file_extension": ".py",
   "mimetype": "text/x-python",
   "name": "python",
   "nbconvert_exporter": "python",
   "pygments_lexer": "ipython3",
   "version": "3.7.3"
  }
 },
 "nbformat": 4,
 "nbformat_minor": 2
}
