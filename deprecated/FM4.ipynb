{
 "cells": [
  {
   "cell_type": "code",
   "execution_count": 1,
   "metadata": {},
   "outputs": [],
   "source": [
    "from ctypes import *\n",
    "from ctypes.wintypes import *\n",
    "import numpy as np"
   ]
  },
  {
   "cell_type": "code",
   "execution_count": 2,
   "metadata": {},
   "outputs": [],
   "source": [
    "PROCESS_ID = 8028\n",
    "\n",
    "PLAYERS_START_ADDR = 0x04f26000\n",
    "OFFSET = 0x20\n",
    "START_ADDR = PLAYERS_START_ADDR + OFFSET\n",
    "\n",
    "PLAYER_ADDR_STRLEN = 4\n",
    "\n",
    "PROCESS_VM_READ = 0x0010\n",
    "\n",
    "PLAYER_CLASS_ID = 0x0133f1a80133ec44"
   ]
  },
  {
   "cell_type": "code",
   "execution_count": 3,
   "metadata": {},
   "outputs": [],
   "source": [
    "k32 = WinDLL('kernel32')\n",
    "k32.OpenProcess.argtypes = DWORD,BOOL,DWORD\n",
    "k32.OpenProcess.restype = HANDLE\n",
    "k32.ReadProcessMemory.argtypes = HANDLE,LPVOID,LPVOID,c_size_t,POINTER(c_size_t)\n",
    "k32.ReadProcessMemory.restype = BOOL"
   ]
  },
  {
   "cell_type": "code",
   "execution_count": 4,
   "metadata": {},
   "outputs": [],
   "source": [
    "def reverse_array(array):\n",
    "    length = len(array)\n",
    "    left = 0\n",
    "    right = length-1\n",
    "    while left < right:\n",
    "        temp = array[left]\n",
    "        array[left] = array[right]\n",
    "        array[right] = temp\n",
    "        left = left + 1\n",
    "        right = right - 1\n",
    "\n",
    "        \n",
    "def reverse_hex_string(st):\n",
    "    length = len(st)\n",
    "    st = list(st)\n",
    "    left = 0\n",
    "    right = length\n",
    "    while left < right:\n",
    "        temp = st[left:left+2]\n",
    "        st[left:left+2] = st[right-2:right]\n",
    "        st[right-2:right] = temp\n",
    "        left = left + 2\n",
    "        right = right - 2\n",
    "    return \"\".join(st)\n",
    "\n",
    "def attribute_100_20(int_value):\n",
    "    return int_value\n",
    "        \n",
    "def decode_player(addr):\n",
    "    \n",
    "    process = k32.OpenProcess(PROCESS_VM_READ, False, PROCESS_ID)\n",
    "    buf = create_string_buffer(PLAYER_ADDR_STRLEN)\n",
    "    s = c_size_t()\n",
    "    \n",
    "    uid_addr = addr + 232\n",
    "    \n",
    "    if k32.ReadProcessMemory(process, uid_addr, buf, 4, byref(s)):\n",
    "        reverse_array(buf)\n",
    "        value = int(buf.raw.hex(),16)\n",
    "        return value\n",
    "    else:\n",
    "        print(\"Access Denied!\")\n",
    "        return -1\n",
    "    \n",
    "def decode_player_class_id(addr):\n",
    "    \n",
    "    process = k32.OpenProcess(PROCESS_VM_READ, False, PROCESS_ID)\n",
    "    buf = create_string_buffer(8)\n",
    "    s = c_size_t()\n",
    "    \n",
    "    if k32.ReadProcessMemory(process, addr, buf, 8, byref(s)):\n",
    "        reverse_array(buf)\n",
    "        value = int(buf.raw.hex(),16)\n",
    "        return value\n",
    "    else:\n",
    "        print(\"Access Denied!\")\n",
    "        return -1"
   ]
  },
  {
   "cell_type": "code",
   "execution_count": 5,
   "metadata": {},
   "outputs": [
    {
     "name": "stdout",
     "output_type": "stream",
     "text": [
      "27311\n"
     ]
    }
   ],
   "source": [
    "process = k32.OpenProcess(PROCESS_VM_READ, False, PROCESS_ID)\n",
    "buf = create_string_buffer(PLAYER_ADDR_STRLEN)\n",
    "s = c_size_t()\n",
    "\n",
    "addr = START_ADDR\n",
    "\n",
    "number = 0\n",
    "\n",
    "while True:\n",
    "    if k32.ReadProcessMemory(process, addr, buf, PLAYER_ADDR_STRLEN, byref(s)):\n",
    "        reverse_array(buf)\n",
    "        value = int(buf.raw.hex(),16)\n",
    "        if value == 0:\n",
    "            break\n",
    "        number = number + 1\n",
    "        addr = addr + PLAYER_ADDR_STRLEN\n",
    "    else:\n",
    "        print(\"Access Denied!\")\n",
    "        break\n",
    "        \n",
    "print(number)    "
   ]
  },
  {
   "cell_type": "code",
   "execution_count": null,
   "metadata": {},
   "outputs": [],
   "source": [
    "process = k32.OpenProcess(PROCESS_VM_READ, False, PROCESS_ID)\n",
    "buf = create_string_buffer(PLAYER_ADDR_STRLEN)\n",
    "s = c_size_t()\n",
    "\n",
    "addr = START_ADDR\n",
    "\n",
    "while True:\n",
    "    \n",
    "    if k32.ReadProcessMemory(process, addr, buf, PLAYER_ADDR_STRLEN, byref(s)):\n",
    "        reverse_array(buf)\n",
    "        player_addr = int(buf.raw.hex(),16)\n",
    "        if player_addr == 0:\n",
    "            break\n",
    "        uid = decode_player(player_addr)\n",
    "        print(uid)\n",
    "        addr = addr + PLAYER_ADDR_STRLEN\n",
    "        if uid == -1:\n",
    "            print(\"Returned -1, breaking\")\n",
    "            break\n",
    "    else:\n",
    "        print(\"Access Denied!\")\n",
    "        break  "
   ]
  },
  {
   "cell_type": "code",
   "execution_count": null,
   "metadata": {},
   "outputs": [],
   "source": [
    "process = k32.OpenProcess(PROCESS_VM_READ, False, PROCESS_ID)\n",
    "buf = create_string_buffer(PLAYER_ADDR_STRLEN)\n",
    "s = c_size_t()\n",
    "\n",
    "addr = START_ADDR\n",
    "\n",
    "num_players = 0\n",
    "num_other = 0\n",
    "\n",
    "while True:\n",
    "    \n",
    "    if k32.ReadProcessMemory(process, addr, buf, PLAYER_ADDR_STRLEN, byref(s)):\n",
    "        reverse_array(buf)\n",
    "        player_addr = int(buf.raw.hex(),16)\n",
    "        if player_addr == 0:\n",
    "            break\n",
    "        class_id = decode_player_class_id(player_addr)\n",
    "        \n",
    "        if class_id == PLAYER_CLASS_ID:\n",
    "            num_players = num_players + 1\n",
    "        elif class_id == -1:\n",
    "            print(\"Returned -1, breaking\")\n",
    "            break\n",
    "        else:\n",
    "            print(addr)\n",
    "            print(class_id)\n",
    "            print(\"---------------\")\n",
    "            num_other = num_other + 1\n",
    "        addr = addr + PLAYER_ADDR_STRLEN\n",
    "    else:\n",
    "        print(\"Access Denied!\")\n",
    "        break\n",
    "\n",
    "print(num_players)\n",
    "print(num_other)"
   ]
  },
  {
   "cell_type": "code",
   "execution_count": 6,
   "metadata": {},
   "outputs": [
    {
     "data": {
      "text/plain": [
       "86678521727151172"
      ]
     },
     "execution_count": 6,
     "metadata": {},
     "output_type": "execute_result"
    }
   ],
   "source": [
    "PLAYER_CLASS_ID"
   ]
  },
  {
   "cell_type": "code",
   "execution_count": 4,
   "metadata": {},
   "outputs": [],
   "source": [
    "from util.player import player"
   ]
  },
  {
   "cell_type": "code",
   "execution_count": 5,
   "metadata": {},
   "outputs": [],
   "source": [
    "p = player(PROCESS_ID)"
   ]
  },
  {
   "cell_type": "code",
   "execution_count": 7,
   "metadata": {},
   "outputs": [
    {
     "name": "stdout",
     "output_type": "stream",
     "text": [
      "success\n"
     ]
    }
   ],
   "source": [
    "process = k32.OpenProcess(PROCESS_VM_READ, False, PROCESS_ID)\n",
    "buf = create_string_buffer(484)\n",
    "s = c_size_t()\n",
    "\n",
    "addr = 0x0c86682c\n",
    "\n",
    "if k32.ReadProcessMemory(process, addr, buf, 484, byref(s)):\n",
    "    print(\"success\")\n",
    "else:\n",
    "    print(\"Access Denied!\")"
   ]
  },
  {
   "cell_type": "code",
   "execution_count": 8,
   "metadata": {},
   "outputs": [
    {
     "data": {
      "text/plain": [
       "b'\\xec'"
      ]
     },
     "execution_count": 8,
     "metadata": {},
     "output_type": "execute_result"
    }
   ],
   "source": [
    "buf[1]"
   ]
  },
  {
   "cell_type": "code",
   "execution_count": 9,
   "metadata": {},
   "outputs": [
    {
     "data": {
      "text/plain": [
       "'ec'"
      ]
     },
     "execution_count": 9,
     "metadata": {},
     "output_type": "execute_result"
    }
   ],
   "source": [
    "buf[1].hex()"
   ]
  },
  {
   "cell_type": "code",
   "execution_count": 10,
   "metadata": {},
   "outputs": [
    {
     "data": {
      "text/plain": [
       "236"
      ]
     },
     "execution_count": 10,
     "metadata": {},
     "output_type": "execute_result"
    }
   ],
   "source": [
    "int(buf[1].hex(),16)"
   ]
  },
  {
   "cell_type": "code",
   "execution_count": 6,
   "metadata": {},
   "outputs": [],
   "source": [
    "p.populate_player_from_addr(0x0c86682c)"
   ]
  },
  {
   "cell_type": "code",
   "execution_count": 7,
   "metadata": {},
   "outputs": [
    {
     "data": {
      "text/plain": [
       "<util.player.player at 0x1fbbed34240>"
      ]
     },
     "execution_count": 7,
     "metadata": {},
     "output_type": "execute_result"
    }
   ],
   "source": [
    "p"
   ]
  },
  {
   "cell_type": "code",
   "execution_count": 8,
   "metadata": {},
   "outputs": [
    {
     "data": {
      "text/plain": [
       "2"
      ]
     },
     "execution_count": 8,
     "metadata": {},
     "output_type": "execute_result"
    }
   ],
   "source": [
    "p.under_21_apps"
   ]
  },
  {
   "cell_type": "code",
   "execution_count": 9,
   "metadata": {},
   "outputs": [
    {
     "data": {
      "text/plain": [
       "2000161838"
      ]
     },
     "execution_count": 9,
     "metadata": {},
     "output_type": "execute_result"
    }
   ],
   "source": [
    "p.uid"
   ]
  },
  {
   "cell_type": "code",
   "execution_count": 10,
   "metadata": {},
   "outputs": [
    {
     "data": {
      "text/plain": [
       "8.0"
      ]
     },
     "execution_count": 10,
     "metadata": {},
     "output_type": "execute_result"
    }
   ],
   "source": [
    "p.eccentricity"
   ]
  },
  {
   "cell_type": "code",
   "execution_count": null,
   "metadata": {},
   "outputs": [],
   "source": []
  },
  {
   "cell_type": "code",
   "execution_count": 11,
   "metadata": {},
   "outputs": [
    {
     "data": {
      "text/plain": [
       "521.0"
      ]
     },
     "execution_count": 11,
     "metadata": {},
     "output_type": "execute_result"
    }
   ],
   "source": [
    "p.total"
   ]
  },
  {
   "cell_type": "code",
   "execution_count": null,
   "metadata": {},
   "outputs": [],
   "source": []
  }
 ],
 "metadata": {
  "kernelspec": {
   "display_name": "Python 3",
   "language": "python",
   "name": "python3"
  },
  "language_info": {
   "codemirror_mode": {
    "name": "ipython",
    "version": 3
   },
   "file_extension": ".py",
   "mimetype": "text/x-python",
   "name": "python",
   "nbconvert_exporter": "python",
   "pygments_lexer": "ipython3",
   "version": "3.7.3"
  }
 },
 "nbformat": 4,
 "nbformat_minor": 2
}
