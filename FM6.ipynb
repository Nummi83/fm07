{
 "cells": [
  {
   "cell_type": "code",
   "execution_count": 1,
   "metadata": {},
   "outputs": [],
   "source": [
    "from ctypes import *\n",
    "from ctypes.wintypes import *\n",
    "import numpy as np\n",
    "import psutil\n",
    "import sys\n",
    "from util.player import player"
   ]
  },
  {
   "cell_type": "code",
   "execution_count": 2,
   "metadata": {},
   "outputs": [],
   "source": [
    "NAME_OF_PROCESS = \"fm.exe\"\n",
    "PROCESS_ID = None\n",
    "\n",
    "PLAYERS_START_ADDR = None\n",
    "\n",
    "PLAYER_ADDR_STRLEN = 4\n",
    "\n",
    "PROCESS_VM_READ = 0x0010\n",
    "\n",
    "PLAYER_CLASS_ID = 0x0133f1a80133ec44\n",
    "\n",
    "CURRENT_DATE = None # (year, days)\n",
    "\n",
    "KNOWN_PLAYERS_FILE_NAME = \"known.slf\"\n",
    "INTERESTED_PLAYERS_FILE_NAME = \"interested.slf\""
   ]
  },
  {
   "cell_type": "code",
   "execution_count": 3,
   "metadata": {},
   "outputs": [],
   "source": [
    "k32 = WinDLL('kernel32')\n",
    "k32.OpenProcess.argtypes = DWORD,BOOL,DWORD\n",
    "k32.OpenProcess.restype = HANDLE\n",
    "k32.ReadProcessMemory.argtypes = HANDLE,LPVOID,LPVOID,c_size_t,POINTER(c_size_t)\n",
    "k32.ReadProcessMemory.restype = BOOL"
   ]
  },
  {
   "cell_type": "code",
   "execution_count": 4,
   "metadata": {},
   "outputs": [],
   "source": [
    "def set_pid():\n",
    "    global PROCESS_ID\n",
    "    for proc in psutil.process_iter():\n",
    "        if proc.name() == NAME_OF_PROCESS:\n",
    "            PROCESS_ID = proc.pid\n",
    "            break\n",
    "        \n",
    "def set_current_date():\n",
    "    \n",
    "    global CURRENT_DATE\n",
    "    \n",
    "    process = k32.OpenProcess(PROCESS_VM_READ, False, PROCESS_ID)\n",
    "    buf = create_string_buffer(4)\n",
    "    s = c_size_t()\n",
    "    \n",
    "    current_date_addr = 0x0163869c\n",
    "    \n",
    "    if k32.ReadProcessMemory(process, current_date_addr, buf, 4, byref(s)):\n",
    "        reverse_array(buf)\n",
    "        year = int(buf.raw.hex()[0:4],16)\n",
    "        days = int(buf.raw.hex()[4:8],16)\n",
    "        CURRENT_DATE = (year, days)\n",
    "    else:\n",
    "        print(\"set_current_date: Access Denied!\")\n",
    "        \n",
    "def set_players_start_address():\n",
    "    \n",
    "    global PLAYERS_START_ADDRESS\n",
    "    \n",
    "    process = k32.OpenProcess(PROCESS_VM_READ, False, PROCESS_ID)\n",
    "    buf = create_string_buffer(4)\n",
    "    s = c_size_t()\n",
    "    \n",
    "    players_start_addr_addr = 0x0183ff10\n",
    "    \n",
    "    if k32.ReadProcessMemory(process, players_start_addr_addr, buf, 4, byref(s)):\n",
    "        reverse_array(buf)\n",
    "        PLAYERS_START_ADDRESS = int(buf.raw.hex(),16)\n",
    "    else:\n",
    "        print(\"set_players_start_address: Access Denied!\")\n",
    "\n",
    "def reverse_array(array):\n",
    "    length = len(array)\n",
    "    left = 0\n",
    "    right = length-1\n",
    "    while left < right:\n",
    "        temp = array[left]\n",
    "        array[left] = array[right]\n",
    "        array[right] = temp\n",
    "        left = left + 1\n",
    "        right = right - 1\n",
    "\n",
    "        \n",
    "def reverse_hex_string(st):\n",
    "    length = len(st)\n",
    "    st = list(st)\n",
    "    left = 0\n",
    "    right = length\n",
    "    while left < right:\n",
    "        temp = st[left:left+2]\n",
    "        st[left:left+2] = st[right-2:right]\n",
    "        st[right-2:right] = temp\n",
    "        left = left + 2\n",
    "        right = right - 2\n",
    "    return \"\".join(st)\n",
    "        \n",
    "def decode_player(addr):\n",
    "    \n",
    "    process = k32.OpenProcess(PROCESS_VM_READ, False, PROCESS_ID)\n",
    "    buf = create_string_buffer(PLAYER_ADDR_STRLEN)\n",
    "    s = c_size_t()\n",
    "    \n",
    "    uid_addr = addr + 232\n",
    "    \n",
    "    if k32.ReadProcessMemory(process, uid_addr, buf, 4, byref(s)):\n",
    "        reverse_array(buf)\n",
    "        value = int(buf.raw.hex(),16)\n",
    "        return value\n",
    "    else:\n",
    "        print(\"Access Denied!\")\n",
    "        return -1\n",
    "    \n",
    "def decode_player_class_id(addr):\n",
    "    \n",
    "    process = k32.OpenProcess(PROCESS_VM_READ, False, PROCESS_ID)\n",
    "    buf = create_string_buffer(8)\n",
    "    s = c_size_t()\n",
    "    \n",
    "    if k32.ReadProcessMemory(process, addr, buf, 8, byref(s)):\n",
    "        reverse_array(buf)\n",
    "        value = int(buf.raw.hex(),16)\n",
    "        return value\n",
    "    else:\n",
    "        print(\"Access Denied!\")\n",
    "        return -1\n",
    "\n",
    "def get_name(name_addr):\n",
    "    \n",
    "    process = k32.OpenProcess(PROCESS_VM_READ, False, PROCESS_ID)\n",
    "    \n",
    "    buf = create_string_buffer(4)\n",
    "    s = c_size_t()\n",
    "    if k32.ReadProcessMemory(process, name_addr, buf, 4, byref(s)):\n",
    "        reverse_array(buf)\n",
    "        link1_addr = int(buf.raw.hex(),16) + 0x24\n",
    "    else:\n",
    "        print(\"get_name_point_1: Access Denied!\")\n",
    "        return\n",
    "    \n",
    "    buf = create_string_buffer(4)\n",
    "    s = c_size_t()\n",
    "    if k32.ReadProcessMemory(process, link1_addr, buf, 4, byref(s)):\n",
    "        reverse_array(buf)\n",
    "        link2_addr = int(buf.raw.hex(),16) + 8\n",
    "    else:\n",
    "        print(\"get_name_point_2: Access Denied!\")\n",
    "        return\n",
    "    \n",
    "    buf = create_string_buffer(4)\n",
    "    s = c_size_t()\n",
    "    if k32.ReadProcessMemory(process, link2_addr, buf, 4, byref(s)):\n",
    "        reverse_array(buf)\n",
    "        link3_addr = int(buf.raw.hex(),16)\n",
    "    else:\n",
    "        print(\"get_name_point_3: Access Denied!\")\n",
    "        return\n",
    "        \n",
    "    buf = create_string_buffer(100)\n",
    "    s = c_size_t()\n",
    "    if k32.ReadProcessMemory(process, link3_addr, buf, 100, byref(s)):\n",
    "        name_100 = buf.raw.hex()\n",
    "        name = decode_name(name_100)\n",
    "        return name\n",
    "    else:\n",
    "        print(\"get_name_point_4: Access Denied!\")\n",
    "        return\n",
    "    \n",
    "def decode_name(hex_string):\n",
    "\n",
    "    name = \"\"\n",
    "    start = 0\n",
    "    \n",
    "    while True:\n",
    "        \n",
    "        hex_segment = hex_string[start:start+4]\n",
    "        if hex_segment == '0000':\n",
    "            break\n",
    "        hex_segment_reversed = reverse_hex_string(hex_segment)\n",
    "        char = chr(int(hex_segment_reversed,16))\n",
    "        name = name + char\n",
    "        start += 4\n",
    "        \n",
    "    return name"
   ]
  },
  {
   "cell_type": "code",
   "execution_count": 5,
   "metadata": {},
   "outputs": [],
   "source": [
    "set_pid()\n",
    "set_current_date()\n",
    "set_players_start_address()"
   ]
  },
  {
   "cell_type": "code",
   "execution_count": 6,
   "metadata": {},
   "outputs": [
    {
     "name": "stdout",
     "output_type": "stream",
     "text": [
      "27087\n",
      "224\n"
     ]
    }
   ],
   "source": [
    "players = []\n",
    "\n",
    "process = k32.OpenProcess(PROCESS_VM_READ, False, PROCESS_ID)\n",
    "buf = create_string_buffer(PLAYER_ADDR_STRLEN)\n",
    "s = c_size_t()\n",
    "\n",
    "addr = PLAYERS_START_ADDRESS\n",
    "\n",
    "number_of_players = 0\n",
    "number_of_others = 0\n",
    "\n",
    "while True:\n",
    "    \n",
    "    if k32.ReadProcessMemory(process, addr, buf, PLAYER_ADDR_STRLEN, byref(s)):\n",
    "        reverse_array(buf)\n",
    "        player_addr = int(buf.raw.hex(),16)\n",
    "        if player_addr == 0:\n",
    "            break\n",
    "        class_id = decode_player_class_id(player_addr)\n",
    "        if class_id == PLAYER_CLASS_ID:\n",
    "            number_of_players += 1\n",
    "            p = player(PROCESS_ID)\n",
    "            p.populate_player_from_addr(player_addr)\n",
    "            players.append(p)\n",
    "        elif class_id == -1:\n",
    "            print(\"Returned -1, breaking\")\n",
    "            break\n",
    "        else:\n",
    "            # print(class_id)\n",
    "            number_of_others += 1\n",
    "        addr = addr + PLAYER_ADDR_STRLEN\n",
    "    else:\n",
    "        print(\"Access Denied!\")\n",
    "        break\n",
    "\n",
    "print(number_of_players)\n",
    "print(number_of_others)"
   ]
  },
  {
   "cell_type": "code",
   "execution_count": 7,
   "metadata": {},
   "outputs": [],
   "source": [
    "for p in players:\n",
    "    p.set_age(CURRENT_DATE)"
   ]
  },
  {
   "cell_type": "code",
   "execution_count": 8,
   "metadata": {},
   "outputs": [
    {
     "name": "stdout",
     "output_type": "stream",
     "text": [
      "File known.slf does not exist [Errno 2] No such file or directory: 'known.slf'\n"
     ]
    }
   ],
   "source": [
    "known_players_uid = []\n",
    "interested_players_uid = []\n",
    "hexdata_known = None\n",
    "hexdata_interested = None\n",
    "\n",
    "# Not full-proof as file may be deleted between check and open\n",
    "try:\n",
    "    with open(KNOWN_PLAYERS_FILE_NAME, 'rb') as f:\n",
    "        hexdata_known = f.read().hex()\n",
    "except Exception as e:\n",
    "    print(\"File \" + KNOWN_PLAYERS_FILE_NAME + \" does not exist\", e)\n",
    "\n",
    "if hexdata_known is not None:\n",
    "    \n",
    "    l = len(hexdata_known)\n",
    "    end = l - 2\n",
    "    start = end - 8\n",
    "    \n",
    "    while True:\n",
    "        \n",
    "        hex_string = hexdata_known[start:end]\n",
    "        if hex_string[4:8] == '0000':\n",
    "            break\n",
    "        hex_string_reversed = reverse_hex_string(hex_string)\n",
    "        known_players_uid.append(int(hex_string_reversed, 16))\n",
    "        \n",
    "        start -= 8\n",
    "        end -= 8\n",
    "        \n",
    "        if start < 0:\n",
    "            break\n",
    "            \n",
    "    for p in players:\n",
    "        if p.uid in known_players_uid:\n",
    "            p.is_known = True\n",
    "        else:\n",
    "            p.is_known = False\n",
    "\n",
    "# Not full-proof as file may be deleted between check and open\n",
    "try:\n",
    "    with open(INTERESTED_PLAYERS_FILE_NAME, 'rb') as f:\n",
    "        hexdata_interested = f.read().hex()\n",
    "except Exception as e:\n",
    "    print(\"File \" + INTERESTED_PLAYERS_FILE_NAME + \" does not exist\", e)\n",
    "\n",
    "if hexdata_interested is not None:\n",
    "    \n",
    "    l = len(hexdata_interested)\n",
    "    end = l - 2\n",
    "    start = end - 8\n",
    "    \n",
    "    while True:\n",
    "        \n",
    "        hex_string = hexdata_interested[start:end]\n",
    "        if hex_string[4:8] == '0000':\n",
    "            break\n",
    "        hex_string_reversed = reverse_hex_string(hex_string)\n",
    "        interested_players_uid.append(int(hex_string_reversed, 16))\n",
    "        \n",
    "        start -= 8\n",
    "        end -= 8\n",
    "        \n",
    "        if start < 0:\n",
    "            break\n",
    "            \n",
    "    for p in players:\n",
    "        if p.uid in interested_players_uid:\n",
    "            p.is_interested = True\n",
    "        else:\n",
    "            p.is_interested = False"
   ]
  },
  {
   "cell_type": "code",
   "execution_count": 9,
   "metadata": {},
   "outputs": [],
   "source": [
    "players.sort(key=lambda x: x.total, reverse = True)"
   ]
  },
  {
   "cell_type": "code",
   "execution_count": 20,
   "metadata": {},
   "outputs": [],
   "source": [
    "p = players[5]"
   ]
  },
  {
   "cell_type": "code",
   "execution_count": 21,
   "metadata": {},
   "outputs": [
    {
     "data": {
      "text/plain": [
       "'Arne'"
      ]
     },
     "execution_count": 21,
     "metadata": {},
     "output_type": "execute_result"
    }
   ],
   "source": [
    "p.first_name"
   ]
  },
  {
   "cell_type": "code",
   "execution_count": 22,
   "metadata": {},
   "outputs": [
    {
     "data": {
      "text/plain": [
       "'Zimmermann'"
      ]
     },
     "execution_count": 22,
     "metadata": {},
     "output_type": "execute_result"
    }
   ],
   "source": [
    "p.second_name"
   ]
  },
  {
   "cell_type": "code",
   "execution_count": 23,
   "metadata": {},
   "outputs": [
    {
     "data": {
      "text/plain": [
       "(2006, 274)"
      ]
     },
     "execution_count": 23,
     "metadata": {},
     "output_type": "execute_result"
    }
   ],
   "source": [
    "p.date_of_birth"
   ]
  },
  {
   "cell_type": "code",
   "execution_count": 24,
   "metadata": {},
   "outputs": [
    {
     "data": {
      "text/plain": [
       "(24, 256)"
      ]
     },
     "execution_count": 24,
     "metadata": {},
     "output_type": "execute_result"
    }
   ],
   "source": [
    "p.age"
   ]
  },
  {
   "cell_type": "code",
   "execution_count": 25,
   "metadata": {},
   "outputs": [
    {
     "data": {
      "text/plain": [
       "(2031, 165)"
      ]
     },
     "execution_count": 25,
     "metadata": {},
     "output_type": "execute_result"
    }
   ],
   "source": [
    "CURRENT_DATE"
   ]
  },
  {
   "cell_type": "code",
   "execution_count": 26,
   "metadata": {},
   "outputs": [
    {
     "data": {
      "text/plain": [
       "676"
      ]
     },
     "execution_count": 26,
     "metadata": {},
     "output_type": "execute_result"
    }
   ],
   "source": [
    "p.club_uid"
   ]
  },
  {
   "cell_type": "code",
   "execution_count": 27,
   "metadata": {},
   "outputs": [],
   "source": [
    "p.is_known"
   ]
  },
  {
   "cell_type": "code",
   "execution_count": 28,
   "metadata": {},
   "outputs": [
    {
     "data": {
      "text/plain": [
       "False"
      ]
     },
     "execution_count": 28,
     "metadata": {},
     "output_type": "execute_result"
    }
   ],
   "source": [
    "p.is_interested"
   ]
  },
  {
   "cell_type": "code",
   "execution_count": 29,
   "metadata": {},
   "outputs": [
    {
     "data": {
      "text/plain": [
       "'Liverpool'"
      ]
     },
     "execution_count": 29,
     "metadata": {},
     "output_type": "execute_result"
    }
   ],
   "source": [
    "p.club_name"
   ]
  },
  {
   "cell_type": "code",
   "execution_count": null,
   "metadata": {},
   "outputs": [],
   "source": []
  }
 ],
 "metadata": {
  "kernelspec": {
   "display_name": "Python 3",
   "language": "python",
   "name": "python3"
  },
  "language_info": {
   "codemirror_mode": {
    "name": "ipython",
    "version": 3
   },
   "file_extension": ".py",
   "mimetype": "text/x-python",
   "name": "python",
   "nbconvert_exporter": "python",
   "pygments_lexer": "ipython3",
   "version": "3.7.3"
  }
 },
 "nbformat": 4,
 "nbformat_minor": 2
}
